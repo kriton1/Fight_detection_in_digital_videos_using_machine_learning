{
 "cells": [
  {
   "cell_type": "code",
   "execution_count": 34,
   "id": "eea80aa2",
   "metadata": {},
   "outputs": [],
   "source": [
    "import os\n",
    "import cv2\n",
    "import numpy as np\n",
    "from sklearn.model_selection import train_test_split\n",
    "from tensorflow.keras.models import Sequential\n",
    "from tensorflow.keras.layers import Conv2D, MaxPooling2D, Flatten, Dense, Dropout, Concatenate, Softmax\n",
    "from scipy import signal\n",
    "from skimage.transform import resize\n",
    "from sklearn.metrics import confusion_matrix, classification_report\n",
    "import seaborn as sns\n",
    "import matplotlib.pyplot as plt\n"
   ]
  },
  {
   "cell_type": "code",
   "execution_count": 35,
   "id": "21598050",
   "metadata": {},
   "outputs": [],
   "source": [
    "VIDEO_EXT = ('.avi', '.mp4')\n",
    "NUM_FRAMES = 30\n",
    "IMG_HEIGHT = 128\n",
    "IMG_WIDTH = 128\n",
    "NUM_CLASSES = 2\n",
    "data_dir = \"/Users/elijahadedamola/Documents/project_dataset/hockey_fight1\""
   ]
  },
  {
   "cell_type": "code",
   "execution_count": 36,
   "id": "e4b68c3a",
   "metadata": {},
   "outputs": [],
   "source": [
    "spectrograms_list = []\n",
    "labels = []\n",
    "\n",
    "for file_name in os.listdir(data_dir):\n",
    "    if not file_name.endswith(VIDEO_EXT):\n",
    "        continue\n",
    "\n",
    "    file_path = os.path.join(data_dir, file_name)\n",
    "    cap = cv2.VideoCapture(file_path)\n",
    "\n",
    "    frames = []\n",
    "    while cap.isOpened() and len(frames) < NUM_FRAMES:\n",
    "        ret, frame = cap.read()\n",
    "        if ret:\n",
    "            frame = cv2.cvtColor(frame, cv2.COLOR_BGR2GRAY)\n",
    "            frames.append(frame)\n",
    "        else:\n",
    "            break\n",
    "\n",
    "    cap.release()\n",
    "\n",
    "    if len(frames) < NUM_FRAMES:\n",
    "        continue\n",
    "\n",
    "    # compute spectrogram\n",
    "    f, t, Zxx = signal.stft(np.array(frames).mean(axis=0), nperseg=64, noverlap=32)\n",
    "    spectrogram = np.abs(Zxx)[::-1]\n",
    "    spectrogram = np.log(spectrogram + 1e-10)\n",
    "    spectrogram = cv2.resize(spectrogram, (IMG_HEIGHT, IMG_WIDTH))\n",
    "    \n",
    "    # append to list of spectrograms and labels\n",
    "    label = 1 if file_name.startswith('fi') else 0\n",
    "    spectrograms_list.append(spectrogram)\n",
    "    labels.append(label)\n",
    "\n",
    "# convert to numpy arrays\n",
    "spectrograms = np.array(spectrograms_list)\n",
    "labels = np.array(labels)\n"
   ]
  },
  {
   "cell_type": "code",
   "execution_count": 37,
   "id": "778b10ec",
   "metadata": {},
   "outputs": [
    {
     "name": "stdout",
     "output_type": "stream",
     "text": [
      "(1000, 128, 128, 13)\n",
      "float64\n"
     ]
    }
   ],
   "source": [
    "print(spectrograms.shape)\n",
    "print(spectrograms.dtype)"
   ]
  },
  {
   "cell_type": "code",
   "execution_count": 38,
   "id": "6d60d834",
   "metadata": {},
   "outputs": [],
   "source": [
    "# Data Preparation\n",
    "X_train1, X_test1, y_train1, y_test1 = train_test_split(spectrograms, labels, test_size=0.2, random_state=1234)\n"
   ]
  },
  {
   "cell_type": "code",
   "execution_count": 39,
   "id": "5e771682",
   "metadata": {},
   "outputs": [],
   "source": [
    "# resize first feature to (128, 128, 3)\n",
    "\n",
    "X_train1_resized = np.array([resize(img, (IMG_HEIGHT, IMG_WIDTH, 3)) for img in X_train1])\n",
    "X_test1_resized = np.array([resize(img, (IMG_HEIGHT, IMG_WIDTH, 3)) for img in X_test1])\n"
   ]
  },
  {
   "cell_type": "code",
   "execution_count": 40,
   "id": "bd38fcd9",
   "metadata": {},
   "outputs": [
    {
     "name": "stdout",
     "output_type": "stream",
     "text": [
      "(800, 128, 128, 3)\n",
      "(800,)\n",
      "(200, 128, 128, 3)\n",
      "(200,)\n"
     ]
    }
   ],
   "source": [
    "print(X_train1_resized.shape)\n",
    "print(y_train1.shape)\n",
    "print(X_test1_resized.shape)\n",
    "print(y_test1.shape)"
   ]
  },
  {
   "cell_type": "code",
   "execution_count": 41,
   "id": "1fb12c92",
   "metadata": {},
   "outputs": [],
   "source": [
    "model1 = Sequential()\n",
    "model1.add(Conv2D(filters=32, kernel_size=3, activation='relu', input_shape=(IMG_HEIGHT, IMG_WIDTH, 3)))\n",
    "model1.add(MaxPooling2D(pool_size=(2, 2)))\n",
    "model1.add(Conv2D(filters=64, kernel_size=3, activation='relu'))\n",
    "model1.add(MaxPooling2D(pool_size=(2, 2)))\n",
    "model1.add(Conv2D(filters=128, kernel_size=3, activation='relu'))\n",
    "model1.add(MaxPooling2D(pool_size=(2, 2)))\n",
    "model1.add(Conv2D(filters=256, kernel_size=3, activation='relu'))\n",
    "model1.add(MaxPooling2D(pool_size=(2, 2)))\n",
    "model1.add(Flatten())\n",
    "#model1.add(Dense(units=512, activation='relu'))\n",
    "#model1.add(Dense(units=256, activation='relu'))\n",
    "model1.add(Dense(units=1, activation='sigmoid'))\n",
    "\n",
    "# Train the Model\n",
    "model1.compile(optimizer='adam', loss='binary_crossentropy', metrics=['accuracy'])\n"
   ]
  },
  {
   "cell_type": "code",
   "execution_count": 42,
   "id": "77537c9f",
   "metadata": {
    "scrolled": true
   },
   "outputs": [
    {
     "name": "stdout",
     "output_type": "stream",
     "text": [
      "Epoch 1/10\n",
      "25/25 [==============================] - 10s 338ms/step - loss: 0.6732 - accuracy: 0.7312\n",
      "Epoch 2/10\n",
      "25/25 [==============================] - 9s 363ms/step - loss: 0.3185 - accuracy: 0.8675\n",
      "Epoch 3/10\n",
      "25/25 [==============================] - 10s 385ms/step - loss: 0.2361 - accuracy: 0.8950\n",
      "Epoch 4/10\n",
      "25/25 [==============================] - 10s 396ms/step - loss: 0.1632 - accuracy: 0.9500\n",
      "Epoch 5/10\n",
      "25/25 [==============================] - 10s 395ms/step - loss: 0.1856 - accuracy: 0.9250\n",
      "Epoch 6/10\n",
      "25/25 [==============================] - 10s 397ms/step - loss: 0.1223 - accuracy: 0.9538\n",
      "Epoch 7/10\n",
      "25/25 [==============================] - 10s 394ms/step - loss: 0.1011 - accuracy: 0.9625\n",
      "Epoch 8/10\n",
      "25/25 [==============================] - 10s 395ms/step - loss: 0.1090 - accuracy: 0.9575\n",
      "Epoch 9/10\n",
      "25/25 [==============================] - 10s 391ms/step - loss: 0.0898 - accuracy: 0.9650\n",
      "Epoch 10/10\n",
      "25/25 [==============================] - 10s 391ms/step - loss: 0.0770 - accuracy: 0.9737\n"
     ]
    }
   ],
   "source": [
    "# Training the Model\n",
    "\n",
    "spectrogram_history = model1.fit(X_train1_resized, y_train1, batch_size=32, epochs=10)\n"
   ]
  },
  {
   "cell_type": "code",
   "execution_count": null,
   "id": "bf1030ae",
   "metadata": {},
   "outputs": [],
   "source": []
  },
  {
   "cell_type": "code",
   "execution_count": 45,
   "id": "61e927c6",
   "metadata": {},
   "outputs": [
    {
     "data": {
      "image/png": "[encoded data removed]",
      "text/plain": [
       "<Figure size 432x288 with 1 Axes>"
      ]
     },
     "metadata": {
      "needs_background": "light"
     },
     "output_type": "display_data"
    },
    {
     "data": {
      "image/png": "[encoded data removed]",
      "text/plain": [
       "<Figure size 432x288 with 1 Axes>"
      ]
     },
     "metadata": {
      "needs_background": "light"
     },
     "output_type": "display_data"
    }
   ],
   "source": [
    "# Plot training history\n",
    "plt.plot(spectrogram_history.history['accuracy'], label='train')\n",
    "#plt.plot(history.history['val_accuracy'], label='validation')\n",
    "#plt.legend()\n",
    "#plt.show()\n",
    "plt.title('Model Accuracy')\n",
    "plt.xlabel('Epoch')\n",
    "plt.ylabel('Accuracy')\n",
    "plt.legend()\n",
    "plt.show()\n",
    "\n",
    "# summarize history for loss\n",
    "plt.plot(history.history['loss'])\n",
    "#plt.plot(history.history['val_loss'])\n",
    "plt.title('model loss')\n",
    "plt.ylabel('loss')\n",
    "plt.xlabel('epoch')\n",
    "plt.legend(['train', 'test'], loc='upper right')\n",
    "plt.show()"
   ]
  },
  {
   "cell_type": "code",
   "execution_count": 46,
   "id": "48a8b644",
   "metadata": {},
   "outputs": [],
   "source": [
    "# Define a function to extract frames from a video file\n",
    "def extract_frames(video_path):\n",
    "    frames = []\n",
    "    cap = cv2.VideoCapture(video_path)\n",
    "    frame_count = 0\n",
    "    while True:\n",
    "        ret, frame = cap.read()\n",
    "        if not ret:\n",
    "            break\n",
    "        frame = cv2.resize(frame, (IMG_HEIGHT, IMG_WIDTH))\n",
    "        frames.append(frame)\n",
    "        frame_count += 1\n",
    "        if frame_count == NUM_FRAMES:\n",
    "            break\n",
    "    cap.release()\n",
    "    if len(frames) < NUM_FRAMES:\n",
    "        padding = [np.zeros((IMG_HEIGHT, IMG_WIDTH, 3))] * (NUM_FRAMES - len(frames))\n",
    "        frames.extend(padding)\n",
    "    return frames"
   ]
  },
  {
   "cell_type": "code",
   "execution_count": 47,
   "id": "897f8737",
   "metadata": {},
   "outputs": [],
   "source": [
    "def prepare_dataset(data_dir):\n",
    "    fight_frames = []\n",
    "    non_fight_frames = []\n",
    "    for file in os.listdir(data_dir):\n",
    "        if file.startswith(\"fi\"):\n",
    "            file_path = os.path.join(data_dir, file)\n",
    "            frames = extract_frames(file_path)\n",
    "            fight_frames.extend(frames)\n",
    "        elif file.startswith(\"no\"):\n",
    "            file_path = os.path.join(data_dir, file)\n",
    "            frames = extract_frames(file_path)\n",
    "            non_fight_frames.extend(frames)\n",
    "    X = np.array(fight_frames + non_fight_frames)\n",
    "    y = np.concatenate([np.ones(len(fight_frames)), np.zeros(len(non_fight_frames))])\n",
    "    X_train2, X_test2, y_train2, y_test2 = train_test_split(X, y, test_size=0.2)\n",
    "    X_train2 = X_train2.reshape(X_train2.shape[0], IMG_HEIGHT, IMG_WIDTH, 3)\n",
    "    X_test2 = X_test2.reshape(X_test2.shape[0], IMG_HEIGHT, IMG_WIDTH, 3)\n",
    "    X_train2 = X_train2.astype('float32') / 255\n",
    "    X_test2 = X_test2.astype('float32') / 255\n",
    "    return X_train2, X_test2, y_train2, y_test2\n"
   ]
  },
  {
   "cell_type": "code",
   "execution_count": 48,
   "id": "9ded9de6",
   "metadata": {},
   "outputs": [],
   "source": [
    "model2 = Sequential()\n",
    "model2.add(Conv2D(32, (3, 3), activation='relu', input_shape=(IMG_HEIGHT, IMG_WIDTH, 3)))\n",
    "model2.add(MaxPooling2D((2, 2)))\n",
    "model2.add(Conv2D(64, (3, 3), activation='relu'))\n",
    "model2.add(MaxPooling2D((2, 2)))\n",
    "model2.add(Conv2D(128, (3, 3), activation='relu'))\n",
    "model2.add(MaxPooling2D((2, 2)))\n",
    "model2.add(Flatten())\n",
    "#model2.add(Dense(128, activation='relu'))\n",
    "#model2.add(Dropout(0.5))\n",
    "model2.add(Dense(1, activation='sigmoid'))\n",
    "model2.compile(optimizer='adam', loss='binary_crossentropy', metrics=['accuracy'])"
   ]
  },
  {
   "cell_type": "code",
   "execution_count": 49,
   "id": "4957ab4d",
   "metadata": {},
   "outputs": [],
   "source": [
    "X_train2, X_test2, y_train2, y_test2 = prepare_dataset(data_dir)"
   ]
  },
  {
   "cell_type": "code",
   "execution_count": 50,
   "id": "d5c51df7",
   "metadata": {},
   "outputs": [
    {
     "name": "stdout",
     "output_type": "stream",
     "text": [
      "(24000, 128, 128, 3)\n",
      "(24000,)\n",
      "(6000, 128, 128, 3)\n",
      "(6000,)\n"
     ]
    }
   ],
   "source": [
    "print(X_train2.shape)\n",
    "print(y_train2.shape)\n",
    "print(X_test2.shape)\n",
    "print(y_test2.shape)"
   ]
  },
  {
   "cell_type": "code",
   "execution_count": 51,
   "id": "5c64792a",
   "metadata": {},
   "outputs": [],
   "source": [
    "X_train_2_resized = X_train2[:800]\n",
    "y_train_2_resized = y_train2[:800]\n",
    "X_test_2_resized = X_test2[:200]\n",
    "y_test_2_resized = y_test2[:200]"
   ]
  },
  {
   "cell_type": "code",
   "execution_count": 52,
   "id": "f25840b4",
   "metadata": {},
   "outputs": [
    {
     "name": "stdout",
     "output_type": "stream",
     "text": [
      "Epoch 1/10\n",
      "25/25 [==============================] - 8s 290ms/step - loss: 0.5623 - accuracy: 0.6900\n",
      "Epoch 2/10\n",
      "25/25 [==============================] - 9s 362ms/step - loss: 0.2895 - accuracy: 0.8800\n",
      "Epoch 3/10\n",
      "25/25 [==============================] - 9s 354ms/step - loss: 0.2084 - accuracy: 0.9325\n",
      "Epoch 4/10\n",
      "25/25 [==============================] - 9s 347ms/step - loss: 0.1495 - accuracy: 0.9475\n",
      "Epoch 5/10\n",
      "25/25 [==============================] - 9s 349ms/step - loss: 0.1166 - accuracy: 0.9538\n",
      "Epoch 6/10\n",
      "25/25 [==============================] - 9s 357ms/step - loss: 0.0882 - accuracy: 0.9775\n",
      "Epoch 7/10\n",
      "25/25 [==============================] - 9s 366ms/step - loss: 0.0729 - accuracy: 0.9737\n",
      "Epoch 8/10\n",
      "25/25 [==============================] - 10s 383ms/step - loss: 0.0664 - accuracy: 0.9837\n",
      "Epoch 9/10\n",
      "25/25 [==============================] - 10s 403ms/step - loss: 0.0588 - accuracy: 0.9825\n",
      "Epoch 10/10\n",
      "25/25 [==============================] - 10s 397ms/step - loss: 0.0801 - accuracy: 0.9750\n"
     ]
    }
   ],
   "source": [
    "frame_history = model2.fit(X_train_2_resized,y_train_2_resized,epochs=10, batch_size=32)"
   ]
  },
  {
   "cell_type": "code",
   "execution_count": 54,
   "id": "15dae06a",
   "metadata": {},
   "outputs": [
    {
     "data": {
      "image/png": "[encoded data removed]",
      "text/plain": [
       "<Figure size 432x288 with 1 Axes>"
      ]
     },
     "metadata": {
      "needs_background": "light"
     },
     "output_type": "display_data"
    },
    {
     "data": {
      "image/png": "[encoded data removed]",
      "text/plain": [
       "<Figure size 432x288 with 1 Axes>"
      ]
     },
     "metadata": {
      "needs_background": "light"
     },
     "output_type": "display_data"
    }
   ],
   "source": [
    "# Plot training history\n",
    "plt.plot(frame_history.history['accuracy'], label='train')\n",
    "#plt.plot(frame_history.history['val_accuracy'], label='validation')\n",
    "#plt.legend()\n",
    "#plt.show()\n",
    "plt.title('Model Accuracy')\n",
    "plt.xlabel('Epoch')\n",
    "plt.ylabel('Accuracy')\n",
    "plt.legend()\n",
    "plt.show()\n",
    "\n",
    "# summarize history for loss\n",
    "plt.plot(frame_history.history['loss'])\n",
    "#plt.plot(frame_history.history['val_loss'])\n",
    "plt.title('model loss')\n",
    "plt.ylabel('loss')\n",
    "plt.xlabel('epoch')\n",
    "plt.legend(['train', 'test'], loc='upper right')\n",
    "plt.show()"
   ]
  },
  {
   "cell_type": "code",
   "execution_count": 55,
   "id": "90460f64",
   "metadata": {},
   "outputs": [],
   "source": [
    "#Remove the classifiers from the models\n",
    "feature1 = Sequential(model1.layers[:-1])\n",
    "feature2 = Sequential(model2.layers[:-1])\n"
   ]
  },
  {
   "cell_type": "code",
   "execution_count": 56,
   "id": "b9b1db77",
   "metadata": {},
   "outputs": [
    {
     "name": "stdout",
     "output_type": "stream",
     "text": [
      "25/25 [==============================] - 3s 99ms/step\n",
      "25/25 [==============================] - 2s 86ms/step\n"
     ]
    }
   ],
   "source": [
    "#Extract the features for training\n",
    "feature_model_1_scores = feature1.predict(X_train1_resized)\n",
    "feature_model_2_scores = feature2.predict(X_train_2_resized)"
   ]
  },
  {
   "cell_type": "code",
   "execution_count": 57,
   "id": "eb622b2c",
   "metadata": {},
   "outputs": [],
   "source": [
    "# Concatenate the extracted training features\n",
    "concatenated_features = np.concatenate((feature_model_1_scores, feature_model_2_scores), axis=1)\n"
   ]
  },
  {
   "cell_type": "code",
   "execution_count": 58,
   "id": "2126dacd",
   "metadata": {},
   "outputs": [],
   "source": [
    "# Define a new model for binary classification using sigmoid activation\n",
    "combined_model = Sequential()\n",
    "combined_model.add(Dense(64, activation='relu', input_shape=(concatenated_features.shape[1],)))\n",
    "combined_model.add(Dense(32, activation='relu'))\n",
    "combined_model.add(Dense(1, activation='sigmoid'))\n",
    "\n",
    "# Compile the new model\n",
    "combined_model.compile(optimizer='adam', loss='binary_crossentropy', metrics=['accuracy'])\n",
    "\n"
   ]
  },
  {
   "cell_type": "code",
   "execution_count": 59,
   "id": "8531bfc0",
   "metadata": {},
   "outputs": [
    {
     "name": "stdout",
     "output_type": "stream",
     "text": [
      "Epoch 1/10\n",
      "20/20 [==============================] - 1s 21ms/step - loss: 0.4614 - accuracy: 0.8109 - val_loss: 0.1105 - val_accuracy: 0.9500\n",
      "Epoch 2/10\n",
      "20/20 [==============================] - 1s 31ms/step - loss: 0.2390 - accuracy: 0.9281 - val_loss: 0.2133 - val_accuracy: 0.9187\n",
      "Epoch 3/10\n",
      "20/20 [==============================] - 1s 26ms/step - loss: 0.1221 - accuracy: 0.9547 - val_loss: 0.0542 - val_accuracy: 0.9937\n",
      "Epoch 4/10\n",
      "20/20 [==============================] - 0s 17ms/step - loss: 0.0913 - accuracy: 0.9672 - val_loss: 0.0434 - val_accuracy: 0.9875\n",
      "Epoch 5/10\n",
      "20/20 [==============================] - 0s 20ms/step - loss: 0.0507 - accuracy: 0.9797 - val_loss: 0.0497 - val_accuracy: 0.9937\n",
      "Epoch 6/10\n",
      "20/20 [==============================] - 0s 18ms/step - loss: 0.0373 - accuracy: 0.9828 - val_loss: 0.0699 - val_accuracy: 0.9688\n",
      "Epoch 7/10\n",
      "20/20 [==============================] - 0s 17ms/step - loss: 0.0308 - accuracy: 0.9875 - val_loss: 0.0463 - val_accuracy: 0.9937\n",
      "Epoch 8/10\n",
      "20/20 [==============================] - 0s 19ms/step - loss: 0.0178 - accuracy: 0.9953 - val_loss: 0.0481 - val_accuracy: 0.9937\n",
      "Epoch 9/10\n",
      "20/20 [==============================] - 0s 16ms/step - loss: 0.0150 - accuracy: 0.9953 - val_loss: 0.0550 - val_accuracy: 0.9875\n",
      "Epoch 10/10\n",
      "20/20 [==============================] - 0s 19ms/step - loss: 0.0095 - accuracy: 0.9969 - val_loss: 0.0510 - val_accuracy: 0.9937\n"
     ]
    }
   ],
   "source": [
    "# Train the new model\n",
    "history_training = combined_model.fit(concatenated_features, y_train1, epochs=10, validation_split=0.2)"
   ]
  },
  {
   "cell_type": "code",
   "execution_count": 70,
   "id": "3fcb0a12",
   "metadata": {},
   "outputs": [
    {
     "name": "stdout",
     "output_type": "stream",
     "text": [
      "25/25 [==============================] - 0s 3ms/step - loss: 0.0145 - accuracy: 0.9987\n"
     ]
    }
   ],
   "source": [
    "#Evaluate the accuracy on the training set\n",
    "training_loss, training_accuracy = combined_model.evaluate(concatenated_features, y_train1)\n"
   ]
  },
  {
   "cell_type": "code",
   "execution_count": 71,
   "id": "7aa15ba9",
   "metadata": {},
   "outputs": [
    {
     "data": {
      "image/png": "[encoded data removed]",
      "text/plain": [
       "<Figure size 432x288 with 1 Axes>"
      ]
     },
     "metadata": {
      "needs_background": "light"
     },
     "output_type": "display_data"
    },
    {
     "data": {
      "image/png": "[encoded data removed]",
      "text/plain": [
       "<Figure size 432x288 with 1 Axes>"
      ]
     },
     "metadata": {
      "needs_background": "light"
     },
     "output_type": "display_data"
    }
   ],
   "source": [
    "# Plot training history\n",
    "plt.plot(history_training.history['accuracy'], label='train')\n",
    "plt.plot(history_training.history['val_accuracy'], label='validation')\n",
    "#plt.legend()\n",
    "#plt.show()\n",
    "plt.title('Model Accuracy')\n",
    "plt.xlabel('Epoch')\n",
    "plt.ylabel('Accuracy')\n",
    "plt.legend()\n",
    "plt.show()\n",
    "\n",
    "# summarize history for loss\n",
    "plt.plot(history_training.history['loss'])\n",
    "plt.plot(history_training.history['val_loss'])\n",
    "plt.title('model loss')\n",
    "plt.ylabel('loss')\n",
    "plt.xlabel('epoch')\n",
    "plt.legend(['train', 'test'], loc='upper right')\n",
    "plt.show()"
   ]
  },
  {
   "cell_type": "code",
   "execution_count": 100,
   "id": "cce00dc0",
   "metadata": {},
   "outputs": [
    {
     "name": "stdout",
     "output_type": "stream",
     "text": [
      "25/25 [==============================] - 0s 4ms/step\n",
      "[[395   0]\n",
      " [  1 404]]\n"
     ]
    },
    {
     "data": {
      "image/png": "[encoded data removed]",
      "text/plain": [
       "<Figure size 432x288 with 2 Axes>"
      ]
     },
     "metadata": {
      "needs_background": "light"
     },
     "output_type": "display_data"
    }
   ],
   "source": [
    "# Make predictions on the validation set\n",
    "y_prob = combined_model.predict(concatenated_features)\n",
    "y_pred = (y_prob > 0.5).astype(int)\n",
    "\n",
    "# Generate the confusion matrix\n",
    "cm = confusion_matrix(y_train1, y_pred)\n",
    "sns.heatmap(cm, annot=True, cmap='Blues')\n",
    "print(cm)\n",
    "plt.show()"
   ]
  },
  {
   "cell_type": "code",
   "execution_count": 60,
   "id": "4503155b",
   "metadata": {},
   "outputs": [
    {
     "name": "stdout",
     "output_type": "stream",
     "text": [
      "7/7 [==============================] - 1s 76ms/step\n",
      "7/7 [==============================] - 1s 95ms/step\n"
     ]
    }
   ],
   "source": [
    "#Generate model_1_scores and model_2_scores for testing\n",
    "feature_modeltest1_scores = feature1.predict(X_test1_resized)\n",
    "feature_modeltest2_scores = feature2.predict(X_test_2_resized)"
   ]
  },
  {
   "cell_type": "code",
   "execution_count": 62,
   "id": "b9907dc6",
   "metadata": {},
   "outputs": [],
   "source": [
    "# Concatenate the extracted testing features\n",
    "concatenated_features_test = np.concatenate((feature_modeltest1_scores, feature_modeltest2_scores), axis=1)\n"
   ]
  },
  {
   "cell_type": "code",
   "execution_count": 63,
   "id": "fbf02eaa",
   "metadata": {},
   "outputs": [],
   "source": [
    "# Define a new model for binary classification using sigmoid activation\n",
    "combined_model_test = Sequential()\n",
    "combined_model_test.add(Dense(64, activation='relu', input_shape=(concatenated_features_test.shape[1],)))\n",
    "combined_model_test.add(Dense(32, activation='relu'))\n",
    "combined_model_test.add(Dense(1, activation='sigmoid'))\n",
    "\n",
    "# Compile the new model\n",
    "combined_model_test.compile(optimizer='adam', loss='binary_crossentropy', metrics=['accuracy'])\n",
    "\n"
   ]
  },
  {
   "cell_type": "code",
   "execution_count": 64,
   "id": "de648109",
   "metadata": {},
   "outputs": [
    {
     "name": "stdout",
     "output_type": "stream",
     "text": [
      "Epoch 1/10\n",
      "5/5 [==============================] - 1s 46ms/step - loss: 0.4470 - accuracy: 0.8250 - val_loss: 0.8198 - val_accuracy: 0.7500\n",
      "Epoch 2/10\n",
      "5/5 [==============================] - 0s 25ms/step - loss: 0.3104 - accuracy: 0.8625 - val_loss: 0.7593 - val_accuracy: 0.8250\n",
      "Epoch 3/10\n",
      "5/5 [==============================] - 0s 23ms/step - loss: 0.1467 - accuracy: 0.9563 - val_loss: 0.8052 - val_accuracy: 0.8000\n",
      "Epoch 4/10\n",
      "5/5 [==============================] - 0s 41ms/step - loss: 0.2348 - accuracy: 0.9312 - val_loss: 0.4452 - val_accuracy: 0.8750\n",
      "Epoch 5/10\n",
      "5/5 [==============================] - 0s 46ms/step - loss: 0.2212 - accuracy: 0.9187 - val_loss: 0.3851 - val_accuracy: 0.9000\n",
      "Epoch 6/10\n",
      "5/5 [==============================] - 0s 35ms/step - loss: 0.1684 - accuracy: 0.9438 - val_loss: 0.4426 - val_accuracy: 0.9250\n",
      "Epoch 7/10\n",
      "5/5 [==============================] - 0s 38ms/step - loss: 0.0320 - accuracy: 0.9812 - val_loss: 0.4858 - val_accuracy: 0.9000\n",
      "Epoch 8/10\n",
      "5/5 [==============================] - 0s 26ms/step - loss: 0.0678 - accuracy: 0.9625 - val_loss: 0.3627 - val_accuracy: 0.8750\n",
      "Epoch 9/10\n",
      "5/5 [==============================] - 0s 23ms/step - loss: 0.0246 - accuracy: 0.9937 - val_loss: 0.4691 - val_accuracy: 0.9250\n",
      "Epoch 10/10\n",
      "5/5 [==============================] - 0s 29ms/step - loss: 0.0428 - accuracy: 0.9812 - val_loss: 0.3965 - val_accuracy: 0.9000\n"
     ]
    }
   ],
   "source": [
    "# Train the new model\n",
    "history_testing = combined_model_test.fit(concatenated_features_test, y_test1, epochs=10, validation_split=0.2)"
   ]
  },
  {
   "cell_type": "code",
   "execution_count": 69,
   "id": "894db724",
   "metadata": {},
   "outputs": [
    {
     "name": "stdout",
     "output_type": "stream",
     "text": [
      "7/7 [==============================] - 0s 4ms/step - loss: 0.0892 - accuracy: 0.9750\n"
     ]
    }
   ],
   "source": [
    "# Evaluate the accuracy on the test set\n",
    "test_loss, test_accuracy = combined_model_test.evaluate(concatenated_features_test, y_test1)\n"
   ]
  },
  {
   "cell_type": "code",
   "execution_count": 72,
   "id": "efe964cf",
   "metadata": {},
   "outputs": [
    {
     "data": {
      "image/png": "[encoded data removed]",
      "text/plain": [
       "<Figure size 432x288 with 1 Axes>"
      ]
     },
     "metadata": {
      "needs_background": "light"
     },
     "output_type": "display_data"
    },
    {
     "data": {
      "image/png": "[encoded data removed]",
      "text/plain": [
       "<Figure size 432x288 with 1 Axes>"
      ]
     },
     "metadata": {
      "needs_background": "light"
     },
     "output_type": "display_data"
    }
   ],
   "source": [
    "# Plot testing history\n",
    "plt.plot(history_testing.history['accuracy'], label='train')\n",
    "plt.plot(history_testing.history['val_accuracy'], label='validation')\n",
    "#plt.legend()\n",
    "#plt.show()\n",
    "plt.title('Model Accuracy')\n",
    "plt.xlabel('Epoch')\n",
    "plt.ylabel('Accuracy')\n",
    "plt.legend()\n",
    "plt.show()\n",
    "\n",
    "# summarize history for loss\n",
    "plt.plot(history_testing.history['loss'])\n",
    "plt.plot(history_testing.history['val_loss'])\n",
    "plt.title('model loss')\n",
    "plt.ylabel('loss')\n",
    "plt.xlabel('epoch')\n",
    "plt.legend(['train', 'test'], loc='upper right')\n",
    "plt.show()"
   ]
  },
  {
   "cell_type": "code",
   "execution_count": 101,
   "id": "51b8017a",
   "metadata": {},
   "outputs": [
    {
     "name": "stdout",
     "output_type": "stream",
     "text": [
      "7/7 [==============================] - 0s 5ms/step\n",
      "[[104   1]\n",
      " [  4  91]]\n"
     ]
    },
    {
     "data": {
      "image/png": "[encoded data removed]",
      "text/plain": [
       "<Figure size 432x288 with 2 Axes>"
      ]
     },
     "metadata": {
      "needs_background": "light"
     },
     "output_type": "display_data"
    }
   ],
   "source": [
    "# Make predictions on the validation set\n",
    "y_prob2 = combined_model_test.predict(concatenated_features_test)\n",
    "y_pred2 = (y_prob2 > 0.5).astype(int)\n",
    "\n",
    "# Generate the confusion matrix\n",
    "cm2 = confusion_matrix(y_test1, y_pred2)\n",
    "sns.heatmap(cm2, annot=True, cmap='Blues')\n",
    "print(cm2)\n",
    "plt.show()"
   ]
  },
  {
   "cell_type": "code",
   "execution_count": null,
   "id": "17313cf9",
   "metadata": {},
   "outputs": [],
   "source": []
  }
 ],
 "metadata": {
  "kernelspec": {
   "display_name": "py3k",
   "language": "python",
   "name": "myenv"
  },
  "language_info": {
   "codemirror_mode": {
    "name": "ipython",
    "version": 3
   },
   "file_extension": ".py",
   "mimetype": "text/x-python",
   "name": "python",
   "nbconvert_exporter": "python",
   "pygments_lexer": "ipython3",
   "version": "3.9.11"
  }
 },
 "nbformat": 4,
 "nbformat_minor": 5
}
